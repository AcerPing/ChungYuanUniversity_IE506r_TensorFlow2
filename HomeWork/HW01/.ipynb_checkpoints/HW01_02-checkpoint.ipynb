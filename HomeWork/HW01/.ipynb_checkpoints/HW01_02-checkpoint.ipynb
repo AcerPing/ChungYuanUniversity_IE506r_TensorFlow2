{
 "cells": [
  {
   "cell_type": "markdown",
   "metadata": {},
   "source": [
    "# 利用Delta學習法更新單一神經元網路之權重 #"
   ]
  },
  {
   "cell_type": "markdown",
   "metadata": {},
   "source": [
    "## 範例一：推求W2 ##"
   ]
  },
  {
   "cell_type": "markdown",
   "metadata": {},
   "source": [
    "### Hint：W(下一個權重) = W(上一個權重) - 斜率 * 步長 ###"
   ]
  },
  {
   "cell_type": "code",
   "execution_count": 1,
   "metadata": {},
   "outputs": [
    {
     "data": {
      "text/plain": [
       "array([[ 1. ],\n",
       "       [-1. ],\n",
       "       [ 0. ],\n",
       "       [ 0.5]])"
      ]
     },
     "execution_count": 1,
     "metadata": {},
     "output_type": "execute_result"
    }
   ],
   "source": [
    "import numpy as np\n",
    "W1 = np.array([1, -1, 0, 0.5]).reshape(-1,1)\n",
    "W1"
   ]
  },
  {
   "cell_type": "code",
   "execution_count": 2,
   "metadata": {},
   "outputs": [
    {
     "data": {
      "text/plain": [
       "array([[ 1. , -1. ,  0. ,  0.5]])"
      ]
     },
     "execution_count": 2,
     "metadata": {},
     "output_type": "execute_result"
    }
   ],
   "source": [
    "W1.T"
   ]
  },
  {
   "cell_type": "code",
   "execution_count": 3,
   "metadata": {},
   "outputs": [
    {
     "data": {
      "text/plain": [
       "array([[ 1],\n",
       "       [-2],\n",
       "       [ 0],\n",
       "       [-1]])"
      ]
     },
     "execution_count": 3,
     "metadata": {},
     "output_type": "execute_result"
    }
   ],
   "source": [
    "X1 = np.array([1, -2, 0, -1]).reshape(-1,1)\n",
    "X1"
   ]
  },
  {
   "cell_type": "code",
   "execution_count": 4,
   "metadata": {},
   "outputs": [
    {
     "name": "stdout",
     "output_type": "stream",
     "text": [
      "2.5\n"
     ]
    }
   ],
   "source": [
    "print(*np.dot((W1.T),X1)[0])"
   ]
  },
  {
   "cell_type": "code",
   "execution_count": 5,
   "metadata": {},
   "outputs": [
    {
     "data": {
      "text/plain": [
       "2.5"
      ]
     },
     "execution_count": 5,
     "metadata": {},
     "output_type": "execute_result"
    }
   ],
   "source": [
    "net1 = np.dot((W1.T),X1)[0][0]\n",
    "net1"
   ]
  },
  {
   "cell_type": "code",
   "execution_count": 6,
   "metadata": {},
   "outputs": [
    {
     "data": {
      "text/plain": [
       "0.85"
      ]
     },
     "execution_count": 6,
     "metadata": {},
     "output_type": "execute_result"
    }
   ],
   "source": [
    "import math\n",
    "y1 = round((2/(1+math.exp(-1*net1)))-1,2)\n",
    "y1 # 預測值"
   ]
  },
  {
   "cell_type": "code",
   "execution_count": 7,
   "metadata": {},
   "outputs": [
    {
     "data": {
      "text/plain": [
       "0.14"
      ]
     },
     "execution_count": 7,
     "metadata": {},
     "output_type": "execute_result"
    }
   ],
   "source": [
    "y_1 = round(0.5*(1-(y1**2)),2)\n",
    "y_1"
   ]
  },
  {
   "cell_type": "code",
   "execution_count": 8,
   "metadata": {},
   "outputs": [
    {
     "data": {
      "text/plain": [
       "array([[ 0.741],\n",
       "       [-0.482],\n",
       "       [ 0.   ],\n",
       "       [ 0.759]])"
      ]
     },
     "execution_count": 8,
     "metadata": {},
     "output_type": "execute_result"
    }
   ],
   "source": [
    "d1 = -1\n",
    "W2 = W1 + 1*(d1-y1)*y_1*X1\n",
    "W2 # 下一個權重 Weight"
   ]
  },
  {
   "cell_type": "markdown",
   "metadata": {},
   "source": [
    "## 範例二：推求W3 ##"
   ]
  },
  {
   "cell_type": "code",
   "execution_count": 9,
   "metadata": {},
   "outputs": [],
   "source": [
    "# W2承接範例一"
   ]
  },
  {
   "cell_type": "code",
   "execution_count": 10,
   "metadata": {},
   "outputs": [
    {
     "data": {
      "text/plain": [
       "array([[ 0. ],\n",
       "       [ 1.5],\n",
       "       [-0.5],\n",
       "       [-1. ]])"
      ]
     },
     "execution_count": 10,
     "metadata": {},
     "output_type": "execute_result"
    }
   ],
   "source": [
    "X2 = np.array([0, 1.5, -0.5, -1]).reshape(-1,1)\n",
    "X2"
   ]
  },
  {
   "cell_type": "code",
   "execution_count": 11,
   "metadata": {},
   "outputs": [
    {
     "name": "stdout",
     "output_type": "stream",
     "text": [
      "-1.482\n"
     ]
    }
   ],
   "source": [
    "print(*np.dot((W2.T),X2)[0])"
   ]
  },
  {
   "cell_type": "code",
   "execution_count": 12,
   "metadata": {},
   "outputs": [
    {
     "data": {
      "text/plain": [
       "-1.482"
      ]
     },
     "execution_count": 12,
     "metadata": {},
     "output_type": "execute_result"
    }
   ],
   "source": [
    "net2 = np.dot((W2.T),X2)[0][0]\n",
    "net2"
   ]
  },
  {
   "cell_type": "code",
   "execution_count": 13,
   "metadata": {},
   "outputs": [
    {
     "data": {
      "text/plain": [
       "-0.63"
      ]
     },
     "execution_count": 13,
     "metadata": {},
     "output_type": "execute_result"
    }
   ],
   "source": [
    "y2 = round((2/(1+math.exp(-1*net2)))-1,2)\n",
    "y2 # 預測值"
   ]
  },
  {
   "cell_type": "code",
   "execution_count": 14,
   "metadata": {},
   "outputs": [
    {
     "data": {
      "text/plain": [
       "0.30155"
      ]
     },
     "execution_count": 14,
     "metadata": {},
     "output_type": "execute_result"
    }
   ],
   "source": [
    "y_2 = 0.5*(1-(y2**2))\n",
    "y_2"
   ]
  },
  {
   "cell_type": "code",
   "execution_count": 15,
   "metadata": {},
   "outputs": [
    {
     "data": {
      "text/plain": [
       "array([[ 0.741     ],\n",
       "       [-0.64936025],\n",
       "       [ 0.05578675],\n",
       "       [ 0.8705735 ]])"
      ]
     },
     "execution_count": 15,
     "metadata": {},
     "output_type": "execute_result"
    }
   ],
   "source": [
    "d2 = -1\n",
    "W3 = W2 + 1*(d2-y2)*y_2*X2\n",
    "W3 # 下一個權重 Weight"
   ]
  },
  {
   "cell_type": "markdown",
   "metadata": {},
   "source": [
    "## 題目：使用上課講義 CH03-1演算法 P34-35之 Delta學習法 (例題 3.5)，使用第二小題更新之 W3，驗證 X2的產出結果是否比使用W2誤差更小。 如果誤差變得更小了，請你說明原因。##"
   ]
  },
  {
   "cell_type": "code",
   "execution_count": 16,
   "metadata": {},
   "outputs": [
    {
     "name": "stdout",
     "output_type": "stream",
     "text": [
      "-1.8725072499999997\n"
     ]
    }
   ],
   "source": [
    "print(*np.dot((W3.T),X2)[0])"
   ]
  },
  {
   "cell_type": "code",
   "execution_count": 17,
   "metadata": {},
   "outputs": [
    {
     "data": {
      "text/plain": [
       "-1.8725072499999997"
      ]
     },
     "execution_count": 17,
     "metadata": {},
     "output_type": "execute_result"
    }
   ],
   "source": [
    "net3 = np.dot((W3.T),X2)[0][0]\n",
    "net3"
   ]
  },
  {
   "cell_type": "code",
   "execution_count": 18,
   "metadata": {},
   "outputs": [
    {
     "data": {
      "text/plain": [
       "-0.73"
      ]
     },
     "execution_count": 18,
     "metadata": {},
     "output_type": "execute_result"
    }
   ],
   "source": [
    "y3 = round((2/(1+math.exp(-1*net3)))-1,2)\n",
    "y3"
   ]
  },
  {
   "cell_type": "code",
   "execution_count": 19,
   "metadata": {},
   "outputs": [
    {
     "name": "stdout",
     "output_type": "stream",
     "text": [
      "W2的誤差: 0.37\n",
      "W3的誤差: 0.27\n"
     ]
    }
   ],
   "source": [
    "# W2的誤差\n",
    "print(f'W2的誤差: {abs(y2-d2)}')\n",
    "# W3的誤差\n",
    "print(f'W3的誤差: {abs(y3-d2)}')"
   ]
  },
  {
   "cell_type": "code",
   "execution_count": 20,
   "metadata": {},
   "outputs": [],
   "source": [
    "# ↑證明誤差有縮小"
   ]
  },
  {
   "cell_type": "code",
   "execution_count": 21,
   "metadata": {},
   "outputs": [],
   "source": [
    "# 說明：\n",
    "# 1. 權重更新公式：W(下一個權重) = W(上一個權重) - 斜率 * 步長(學習速率)\n",
    "# 2. 藉由隨機梯度下降(Stochastic Gradient Descent)，起初先隨機給予權重，得出Loss值，之後逐步朝負斜率的方向調整權重，減少Loss值，使預測值與正確答案的差距逐漸縮小；當Loss值為最小值或等於0時，預測值會最貼近或等於正確答案。\n",
    "# 3. 負斜率的微分可以改由微分連鎖法則求得，即對 MSE微分(y-d)、Activation活化函數微分(0.5*(1-(y2**2)))、W3X2微分(X2)。"
   ]
  },
  {
   "cell_type": "markdown",
   "metadata": {},
   "source": [
    "<img src=https://assets.website-files.com/5ac6b7f2924c652fd013a891/5d377196349c9f16a57e8130_5b8046ed22c3e396507d37bd_Screen%2520Shot%25202018-08-24%2520at%252010.56.46%2520AM.png width=85% />\n",
    "<center><h2>Multilayer Perceptrons Illustration 1</h2></center>\n",
    "<br>\n",
    "<left>Loss Function is the difference between the target and actual output.</left>"
   ]
  },
  {
   "cell_type": "markdown",
   "metadata": {},
   "source": [
    "<img src=https://miro.medium.com/max/828/1*tYQrcNF2rPAETvzpqGX0PA.png width=80% />\n",
    "<center><h2>Multilayer Perceptrons Illustration 2</h2></center>"
   ]
  },
  {
   "cell_type": "markdown",
   "metadata": {},
   "source": [
    "![MSE](https://miro.medium.com/max/640/1*-e1QGatrODWpJkEwqP4Jyg.png)\n",
    "<center><h2>MSE(Mean Squared Error)</h2></center>\n",
    "<br>\n",
    "<left>MSE：加總每一個預測值與正確值的距離後取平均（距離可由歐幾里得公式求得）。</left>"
   ]
  },
  {
   "cell_type": "code",
   "execution_count": 22,
   "metadata": {},
   "outputs": [],
   "source": [
    "# MSE loss function\n",
    "def mse_loss(y_pred, y_true):\n",
    "    squared_error = (y_pred - y_true) ** 2\n",
    "    sum_squared_error = np.sum(squared_error)\n",
    "    loss = sum_squared_error / y_true.size\n",
    "    return loss"
   ]
  },
  {
   "cell_type": "code",
   "execution_count": null,
   "metadata": {},
   "outputs": [],
   "source": []
  }
 ],
 "metadata": {
  "kernelspec": {
   "display_name": "Python 3",
   "language": "python",
   "name": "python3"
  },
  "language_info": {
   "codemirror_mode": {
    "name": "ipython",
    "version": 3
   },
   "file_extension": ".py",
   "mimetype": "text/x-python",
   "name": "python",
   "nbconvert_exporter": "python",
   "pygments_lexer": "ipython3",
   "version": "3.7.7"
  }
 },
 "nbformat": 4,
 "nbformat_minor": 4
}
