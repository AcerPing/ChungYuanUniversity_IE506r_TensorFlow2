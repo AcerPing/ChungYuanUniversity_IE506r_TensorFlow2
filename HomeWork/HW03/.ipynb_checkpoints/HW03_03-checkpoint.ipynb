{
 "cells": [
  {
   "cell_type": "markdown",
   "metadata": {},
   "source": [
    "# 撰寫程式用來轉換單位(例如 長度/重量/體積擇一) #"
   ]
  },
  {
   "cell_type": "markdown",
   "metadata": {},
   "source": [
    "## 單位轉換公式請自行尋找 ##"
   ]
  },
  {
   "cell_type": "code",
   "execution_count": 1,
   "metadata": {},
   "outputs": [],
   "source": [
    "#數字轉換\n",
    "def ConvertNum(s):\n",
    "    try:\n",
    "        s = str(float(str(s).strip().replace(',', '')))\n",
    "        if s.count('.') == 0:\n",
    "            s = s.replace('.0', '')\n",
    "            return int(s)\n",
    "        if s.count('.') == 1:\n",
    "            sl = s.split('.')\n",
    "            left = sl[0]\n",
    "            right = sl[1]\n",
    "            if int(right) == 0:\n",
    "                return int(left)\n",
    "            else:\n",
    "                return float(s)\n",
    "        else: raise Exception\n",
    "    except:\n",
    "        return s"
   ]
  },
  {
   "cell_type": "markdown",
   "metadata": {},
   "source": [
    "###  長度（公分cm←→英吋inch）###"
   ]
  },
  {
   "cell_type": "code",
   "execution_count": 2,
   "metadata": {},
   "outputs": [
    {
     "name": "stdout",
     "output_type": "stream",
     "text": [
      "請輸入長度:10\n",
      "10公分(cm)等於3.94英吋(in)\n",
      "10英吋(in)等於25.4公分(cm)\n"
     ]
    }
   ],
   "source": [
    "s = ConvertNum(input(\"請輸入長度:\"))\n",
    "\n",
    "if isinstance(s, int) or isinstance(s, float):  # 判斷是否均數字(整數或小數)\n",
    "    print(f'{s}公分(cm)等於{round((s*0.393700787),2)}英吋(in)') \n",
    "    print(f'{s}英吋(in)等於{round((s*2.54),2)}公分(cm)') \n",
    "else:\n",
    "    print(\"輸入的值無法轉換為整數或小數！\")\n",
    "  "
   ]
  },
  {
   "cell_type": "markdown",
   "metadata": {},
   "source": [
    "###  重量（英制磅lb←→公斤KG）###"
   ]
  },
  {
   "cell_type": "code",
   "execution_count": 21,
   "metadata": {},
   "outputs": [
    {
     "name": "stdout",
     "output_type": "stream",
     "text": [
      "請輸入重量:1\n",
      "1磅(lb)等於0.45公斤(kg)\n",
      "1公斤(kg)等於2.2磅(lb)\n"
     ]
    }
   ],
   "source": [
    "s = ConvertNum(input(\"請輸入重量:\"))\n",
    "\n",
    "if isinstance(s, int) or isinstance(s, float):  # 判斷是否均數字(整數或小數)\n",
    "    print(f'{s}磅(lb)等於{round((s*0.453),2)}公斤(kg)') \n",
    "    print(f'{s}公斤(kg)等於{round((s*2.20462262),2)}磅(lb)') \n",
    "else:\n",
    "    print(\"輸入的值無法轉換為整數或小數！\")\n",
    "  "
   ]
  },
  {
   "cell_type": "markdown",
   "metadata": {},
   "source": [
    "###  體積（升L←→立方米$m^3$）###"
   ]
  },
  {
   "cell_type": "code",
   "execution_count": 35,
   "metadata": {},
   "outputs": [
    {
     "name": "stdout",
     "output_type": "stream",
     "text": [
      "請輸入體積:5.4\n",
      "5.4升(L)等於0.0054立方米\n",
      "5.4立方米等於5400.0升(L)\n"
     ]
    }
   ],
   "source": [
    "s = ConvertNum(input(\"請輸入體積:\"))\n",
    "\n",
    "if isinstance(s, int) or isinstance(s, float):  # 判斷是否均數字(整數或小數)\n",
    "    print(f'{s}升(L)等於{s/1000}立方米') \n",
    "    print(f'{s}立方米等於{s*1000}升(L)') \n",
    "else:\n",
    "    print(\"輸入的值無法轉換為整數或小數！\")\n",
    "  "
   ]
  }
 ],
 "metadata": {
  "kernelspec": {
   "display_name": "Python 3",
   "language": "python",
   "name": "python3"
  },
  "language_info": {
   "codemirror_mode": {
    "name": "ipython",
    "version": 3
   },
   "file_extension": ".py",
   "mimetype": "text/x-python",
   "name": "python",
   "nbconvert_exporter": "python",
   "pygments_lexer": "ipython3",
   "version": "3.7.7"
  }
 },
 "nbformat": 4,
 "nbformat_minor": 4
}
