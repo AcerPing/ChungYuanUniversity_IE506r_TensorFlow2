{
 "cells": [
  {
   "cell_type": "markdown",
   "metadata": {},
   "source": [
    "# 請參考下列程式碼，自行改寫程式用來轉換絕對溫度(K) #"
   ]
  },
  {
   "cell_type": "markdown",
   "metadata": {},
   "source": [
    "## 重要: 此程式碼須於Python3.6以上版本執行。絕對溫度公式請自行尋找 ##"
   ]
  },
  {
   "cell_type": "code",
   "execution_count": 4,
   "metadata": {},
   "outputs": [
    {
     "name": "stdout",
     "output_type": "stream",
     "text": [
      "請輸入溫度:.5\n",
      "只能以數字或負號開頭\n"
     ]
    }
   ],
   "source": [
    "s = input(\"請輸入溫度:\")\n",
    "\n",
    "if s.count('.') > 1:     #判斷字串是否超過1個小數點 \n",
    "    print('只能有一個小數點')\n",
    "    \n",
    "elif s[1:].replace('.','').isdigit():   \n",
    "#使用 isdigit 判斷除了第一個字元，其餘數字去小數點之後是否均為數字\n",
    "    if s[0] == '-' or s[0].isdigit():  #判斷開頭字元是否為負號或數字\n",
    "        temp = float(s)\n",
    "        print(f'攝氏{temp} 度等於華氏{(temp*9/5)+32 :+5.1f}度') \n",
    "        #算式冒號(:)後面是設定輸出格式\n",
    "        print(f'華氏{temp} 度等於攝氏{(temp-32)*5/9 :+5.1f}度')\n",
    "    else:\n",
    "        print(\"只能以數字或負號開頭\")\n",
    "else :\n",
    "    print(\"輸入的溫度無法轉換 ! \")\n",
    "\n"
   ]
  },
  {
   "cell_type": "code",
   "execution_count": 35,
   "metadata": {},
   "outputs": [
    {
     "name": "stdout",
     "output_type": "stream",
     "text": [
      "請輸入溫度:-20\n",
      "攝氏-20.0 度等於凱氏+253.1度\n",
      "華氏-20.0 度等於凱氏+244.3度\n"
     ]
    }
   ],
   "source": [
    "s = input(\"請輸入溫度:\")\n",
    "\n",
    "if s.count('.') > 1:     #判斷字串是否超過1個小數點 \n",
    "    print('只能有一個小數點')\n",
    "\n",
    "elif s[1:].replace('.','').isdigit():   \n",
    "#使用 isdigit 判斷除了第一個字元，其餘數字去小數點之後是否均為數字\n",
    "    if s[0] == '-' or s[0].isdigit():  #判斷開頭字元是否為負號或數字\n",
    "        temp = float(s)\n",
    "        # print(f'攝氏{temp} 度等於華氏{(temp*9/5)+32 :+5.1f}度') \n",
    "        print(f'攝氏{temp} 度等於凱氏{temp+273.15 :+5.1f}度')\n",
    "        #算式冒號(:)後面是設定輸出格式\n",
    "        # print(f'華氏{temp} 度等於攝氏{(temp-32)*5/9 :+5.1f}度')\n",
    "        print(f'華氏{temp} 度等於凱氏{(temp + 459.67)*5/9 :+5.1f}度')\n",
    "    else:\n",
    "        print(\"只能以數字或負號開頭\")\n",
    "else :\n",
    "\n",
    "    print(\"輸入的溫度無法轉換 ! \")\n",
    "    \n"
   ]
  },
  {
   "cell_type": "code",
   "execution_count": null,
   "metadata": {},
   "outputs": [],
   "source": []
  }
 ],
 "metadata": {
  "kernelspec": {
   "display_name": "Python 3",
   "language": "python",
   "name": "python3"
  },
  "language_info": {
   "codemirror_mode": {
    "name": "ipython",
    "version": 3
   },
   "file_extension": ".py",
   "mimetype": "text/x-python",
   "name": "python",
   "nbconvert_exporter": "python",
   "pygments_lexer": "ipython3",
   "version": "3.7.7"
  }
 },
 "nbformat": 4,
 "nbformat_minor": 4
}
