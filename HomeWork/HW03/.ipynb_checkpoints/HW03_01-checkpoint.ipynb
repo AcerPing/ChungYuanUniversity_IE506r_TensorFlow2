{
 "cells": [
  {
   "cell_type": "markdown",
   "metadata": {},
   "source": [
    "# 執行下列(字典, dict)程式後，為每行方程式撰寫註解 #"
   ]
  },
  {
   "cell_type": "code",
   "execution_count": 1,
   "metadata": {},
   "outputs": [
    {
     "data": {
      "text/plain": [
       "{'Black Tea': 40, 'Black Tea Latte': 50, 'Bubble Milk Tea': 60}"
      ]
     },
     "execution_count": 1,
     "metadata": {},
     "output_type": "execute_result"
    }
   ],
   "source": [
    "menu={'Black Tea':40, 'Black Tea Latte':50, 'Bubble Milk Tea':60} # 設立字典變數\n",
    "menu\n"
   ]
  },
  {
   "cell_type": "code",
   "execution_count": 2,
   "metadata": {},
   "outputs": [
    {
     "data": {
      "text/plain": [
       "{'Black Tea': 30, 'Black Tea Latte': 50, 'Bubble Milk Tea': 60}"
      ]
     },
     "execution_count": 2,
     "metadata": {},
     "output_type": "execute_result"
    }
   ],
   "source": [
    "menu['Black Tea']=30 # 將Black Tea的value值更改為30\n",
    "menu"
   ]
  },
  {
   "cell_type": "code",
   "execution_count": 3,
   "metadata": {},
   "outputs": [
    {
     "data": {
      "text/plain": [
       "{'Black Tea': 30, 'Black Tea Latte': 60, 'Bubble Milk Tea': 60}"
      ]
     },
     "execution_count": 3,
     "metadata": {},
     "output_type": "execute_result"
    }
   ],
   "source": [
    "menu['Black Tea Latte']=60 # 將Black Tea Latte的value值更改為60\n",
    "menu"
   ]
  },
  {
   "cell_type": "code",
   "execution_count": 4,
   "metadata": {},
   "outputs": [
    {
     "data": {
      "text/plain": [
       "{'Black Tea': 30,\n",
       " 'Black Tea Latte': 60,\n",
       " 'Bubble Milk Tea': 60,\n",
       " 'Fruit Juice': 'Market Price'}"
      ]
     },
     "execution_count": 4,
     "metadata": {},
     "output_type": "execute_result"
    }
   ],
   "source": [
    "menu['Fruit Juice']='Market Price' # 新增key為Fruit Juice、value為'Market Price'\n",
    "menu"
   ]
  },
  {
   "cell_type": "code",
   "execution_count": null,
   "metadata": {},
   "outputs": [],
   "source": []
  }
 ],
 "metadata": {
  "kernelspec": {
   "display_name": "Python 3",
   "language": "python",
   "name": "python3"
  },
  "language_info": {
   "codemirror_mode": {
    "name": "ipython",
    "version": 3
   },
   "file_extension": ".py",
   "mimetype": "text/x-python",
   "name": "python",
   "nbconvert_exporter": "python",
   "pygments_lexer": "ipython3",
   "version": "3.7.7"
  }
 },
 "nbformat": 4,
 "nbformat_minor": 4
}
