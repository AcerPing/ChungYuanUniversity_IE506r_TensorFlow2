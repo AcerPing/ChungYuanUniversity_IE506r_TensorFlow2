{
  "nbformat": 4,
  "nbformat_minor": 0,
  "metadata": {
    "colab": {
      "provenance": [],
      "collapsed_sections": []
    },
    "kernelspec": {
      "name": "python3",
      "display_name": "Python 3"
    },
    "language_info": {
      "name": "python"
    }
  },
  "cells": [
    {
      "cell_type": "markdown",
      "source": [
        "<h1>中原大學 類神經網路及其應用 HW02 作業</h1>\n",
        "<h2>第一題</h2>"
      ],
      "metadata": {
        "id": "UArNpaZdQfIp"
      }
    },
    {
      "cell_type": "markdown",
      "source": [
        "<h3>使用Google Colab建立新筆記本，檔名設為HW02_1_你的學號.ipynb</h3>\n",
        "<h3>執行下列程式，並為每行方程式撰寫註解</h3>"
      ],
      "metadata": {
        "id": "CYRFYfklRUtb"
      }
    },
    {
      "cell_type": "code",
      "source": [
        "import sys\n",
        "sys.version #確認Python版本 (3.7.15)\n"
      ],
      "metadata": {
        "colab": {
          "base_uri": "https://localhost:8080/",
          "height": 36
        },
        "id": "EBZ0mpJOQeDE",
        "outputId": "7c076e9f-65d5-4409-9053-eda40804c5dc"
      },
      "execution_count": null,
      "outputs": [
        {
          "output_type": "execute_result",
          "data": {
            "text/plain": [
              "'3.7.15 (default, Oct 12 2022, 19:14:55) \\n[GCC 7.5.0]'"
            ],
            "application/vnd.google.colaboratory.intrinsic+json": {
              "type": "string"
            }
          },
          "metadata": {},
          "execution_count": 14
        }
      ]
    },
    {
      "cell_type": "code",
      "source": [
        "m=4*8 # 8*4=32\n",
        "m"
      ],
      "metadata": {
        "colab": {
          "base_uri": "https://localhost:8080/"
        },
        "id": "DKoRrjmcQtVp",
        "outputId": "2d79f186-8f97-4344-e3cd-d2bd8a4b0470"
      },
      "execution_count": null,
      "outputs": [
        {
          "output_type": "execute_result",
          "data": {
            "text/plain": [
              "32"
            ]
          },
          "metadata": {},
          "execution_count": 15
        }
      ]
    },
    {
      "cell_type": "code",
      "source": [
        "n=7/2 # 7/2=3.5\n",
        "n"
      ],
      "metadata": {
        "colab": {
          "base_uri": "https://localhost:8080/"
        },
        "id": "HXYbUTAXQ2E0",
        "outputId": "8a6d45e7-7207-4944-8a51-f7b18751bebe"
      },
      "execution_count": null,
      "outputs": [
        {
          "output_type": "execute_result",
          "data": {
            "text/plain": [
              "3.5"
            ]
          },
          "metadata": {},
          "execution_count": 16
        }
      ]
    },
    {
      "cell_type": "code",
      "source": [
        "p=2**3 # 2的3次方=8\n",
        "p"
      ],
      "metadata": {
        "colab": {
          "base_uri": "https://localhost:8080/"
        },
        "id": "E6PvbL3TQ6iQ",
        "outputId": "841a53fe-5279-4601-df63-0ee3e65accd1"
      },
      "execution_count": null,
      "outputs": [
        {
          "output_type": "execute_result",
          "data": {
            "text/plain": [
              "8"
            ]
          },
          "metadata": {},
          "execution_count": 17
        }
      ]
    },
    {
      "cell_type": "code",
      "source": [
        "a=[0, 2, 4, \"xyz\", 9, 11, 'last'] # 創建a為list，當中放入0, 2, 4, \"xyz\", 9, 11, 'last' (不一樣的形式)\n",
        "a"
      ],
      "metadata": {
        "colab": {
          "base_uri": "https://localhost:8080/"
        },
        "id": "fz6i6F57Q-yA",
        "outputId": "08177c15-d602-4945-ccd7-8d3521de949a"
      },
      "execution_count": null,
      "outputs": [
        {
          "output_type": "execute_result",
          "data": {
            "text/plain": [
              "[0, 2, 4, 'xyz', 9, 11, 'last']"
            ]
          },
          "metadata": {},
          "execution_count": 18
        }
      ]
    },
    {
      "cell_type": "code",
      "source": [
        "a[1:3] # 從a取出index1-index2的值，即2與4"
      ],
      "metadata": {
        "colab": {
          "base_uri": "https://localhost:8080/"
        },
        "id": "oYiMghHLRREL",
        "outputId": "4c2a3bee-93aa-43dd-c6eb-7b560fe8bbad"
      },
      "execution_count": null,
      "outputs": [
        {
          "output_type": "execute_result",
          "data": {
            "text/plain": [
              "[2, 4]"
            ]
          },
          "metadata": {},
          "execution_count": 19
        }
      ]
    },
    {
      "cell_type": "code",
      "source": [
        "a[2:2] # 會得到一個空的list"
      ],
      "metadata": {
        "colab": {
          "base_uri": "https://localhost:8080/"
        },
        "id": "0e7pGNmVRupV",
        "outputId": "0c8c187d-0320-41df-dc23-ec9bed28a710"
      },
      "execution_count": null,
      "outputs": [
        {
          "output_type": "execute_result",
          "data": {
            "text/plain": [
              "[]"
            ]
          },
          "metadata": {},
          "execution_count": 20
        }
      ]
    },
    {
      "cell_type": "code",
      "source": [
        "a[-5:5] # 從a取出倒數第五個到index4的值，即4,\"xyz\",9"
      ],
      "metadata": {
        "colab": {
          "base_uri": "https://localhost:8080/"
        },
        "id": "f3puxFjVS6bR",
        "outputId": "f85c0a26-6f2c-4272-9c3f-8e590f39b7e5"
      },
      "execution_count": null,
      "outputs": [
        {
          "output_type": "execute_result",
          "data": {
            "text/plain": [
              "[4, 'xyz', 9]"
            ]
          },
          "metadata": {},
          "execution_count": 21
        }
      ]
    },
    {
      "cell_type": "code",
      "source": [
        "a[-3: ] # 從a取出倒數第3個之後的所有值，即9,11,'last'"
      ],
      "metadata": {
        "colab": {
          "base_uri": "https://localhost:8080/"
        },
        "id": "K-XYV0zETOBR",
        "outputId": "ed558edf-d289-4e8b-8667-cbde6e9a207c"
      },
      "execution_count": null,
      "outputs": [
        {
          "output_type": "execute_result",
          "data": {
            "text/plain": [
              "[9, 11, 'last']"
            ]
          },
          "metadata": {},
          "execution_count": 22
        }
      ]
    },
    {
      "cell_type": "code",
      "source": [
        "a[1:6:2] # 從a取出index1-index5，每兩個取一個，即2,\"xyz\",11"
      ],
      "metadata": {
        "colab": {
          "base_uri": "https://localhost:8080/"
        },
        "id": "HWK3iTxBTp2J",
        "outputId": "659f5fa3-80f0-4e5d-fa0c-657e2f517601"
      },
      "execution_count": null,
      "outputs": [
        {
          "output_type": "execute_result",
          "data": {
            "text/plain": [
              "[2, 'xyz', 11]"
            ]
          },
          "metadata": {},
          "execution_count": 23
        }
      ]
    },
    {
      "cell_type": "code",
      "source": [
        "a[4:1:-1] # 從index4往回推到index2，每兩個取一個，即9,\"xyz\",4, "
      ],
      "metadata": {
        "colab": {
          "base_uri": "https://localhost:8080/"
        },
        "id": "CaWOW8WhT8yz",
        "outputId": "e5b11b54-223a-49c0-eb28-fcfcbdec3502"
      },
      "execution_count": null,
      "outputs": [
        {
          "output_type": "execute_result",
          "data": {
            "text/plain": [
              "[9, 'xyz', 4]"
            ]
          },
          "metadata": {},
          "execution_count": 24
        }
      ]
    },
    {
      "cell_type": "code",
      "source": [
        "a[1:3]=[5,'ABC'] # 將a的index1與index2分別改為5及'ABC'，即[0, 5, 'ABC', \"xyz\", 9, 11, 'last']\n",
        "a "
      ],
      "metadata": {
        "colab": {
          "base_uri": "https://localhost:8080/"
        },
        "id": "eBVyiYJPUaAy",
        "outputId": "b5725abc-6ef2-49ed-a7a8-552f1082c389"
      },
      "execution_count": null,
      "outputs": [
        {
          "output_type": "execute_result",
          "data": {
            "text/plain": [
              "[0, 5, 'ABC', 'xyz', 9, 11, 'last']"
            ]
          },
          "metadata": {},
          "execution_count": 25
        }
      ]
    },
    {
      "cell_type": "code",
      "source": [
        "a[1:1]=[3,6] # 在a的index1插入3與6，即[0, 3, 6, 5, 'ABC', 'xyz', 9, 11, 'last']\n",
        "a"
      ],
      "metadata": {
        "colab": {
          "base_uri": "https://localhost:8080/"
        },
        "id": "g1ODLDScUwiP",
        "outputId": "9e520851-7686-4605-e31e-59b65b157dc7"
      },
      "execution_count": null,
      "outputs": [
        {
          "output_type": "execute_result",
          "data": {
            "text/plain": [
              "[0, 3, 6, 5, 'ABC', 'xyz', 9, 11, 'last']"
            ]
          },
          "metadata": {},
          "execution_count": 26
        }
      ]
    },
    {
      "cell_type": "code",
      "source": [],
      "metadata": {
        "id": "y5p0YtAxU6X7"
      },
      "execution_count": null,
      "outputs": []
    }
  ]
}